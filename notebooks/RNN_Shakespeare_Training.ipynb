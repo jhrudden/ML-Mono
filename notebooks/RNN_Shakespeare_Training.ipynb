{
 "cells": [
  {
   "cell_type": "code",
   "execution_count": null,
   "metadata": {},
   "outputs": [],
   "source": [
    "import sys\n",
    "import torch\n",
    "from tqdm import tqdm\n",
    "\n",
    "sys.path.append('..')\n",
    "from utils import *\n",
    "from datasets import *\n",
    "from rnn import LanguageModelSRNN"
   ]
  },
  {
   "cell_type": "code",
   "execution_count": null,
   "metadata": {},
   "outputs": [],
   "source": [
    "BATCH_SIZE = 4\n",
    "SEQ_LEN = 10\n",
    "NUM_EPOCHS = 1"
   ]
  },
  {
   "cell_type": "markdown",
   "metadata": {},
   "source": [
    "### Load TFDS TinyShakespeare Train and Test Sets"
   ]
  },
  {
   "cell_type": "code",
   "execution_count": null,
   "metadata": {},
   "outputs": [],
   "source": [
    "train_set = load_tf_dataset('tiny_shakespeare', split_name='train')\n",
    "train_set = '\\n'.join(train_set) # join all the strings together\n",
    "# grab 50% of the dataset\n",
    "train_set = train_set[:len(train_set)//8]\n",
    "train_dataloader, vocab_size = create_char_level_dataloader(train_set, batch_size=BATCH_SIZE, seq_len=SEQ_LEN)\n",
    "dataset = CharLevelDataset(train_set)\n",
    "dataset.vocab['\\n'], vocab_size"
   ]
  },
  {
   "cell_type": "markdown",
   "metadata": {},
   "source": [
    "### Messing around with dataloader and character embeddings"
   ]
  },
  {
   "cell_type": "code",
   "execution_count": null,
   "metadata": {},
   "outputs": [],
   "source": [
    "data, labels = next(iter(train_dataloader))\n",
    "contexts, embedded_labels = expand_sequence_for_rnn_training(data, labels, vocab_size, SEQ_LEN)\n",
    "contexts[0].size(), embedded_labels.transpose(0, 1)[0].size() \n",
    "# transposing embedded labels to swap batch and seq_len as context is batch x one timestep"
   ]
  },
  {
   "cell_type": "code",
   "execution_count": null,
   "metadata": {},
   "outputs": [],
   "source": [
    "model = LanguageModelSRNN(vocab_size=vocab_size,seq_len=SEQ_LEN, hidden_dim=100)"
   ]
  },
  {
   "cell_type": "code",
   "execution_count": null,
   "metadata": {},
   "outputs": [],
   "source": [
    "gen_seq = model.generate(torch.tensor([dataset.vocab['\\n']]), SEQ_LEN, 20)\n",
    "\"\".join([list(dataset.vocab.keys())[i - 1] for i in gen_seq])"
   ]
  },
  {
   "cell_type": "code",
   "execution_count": null,
   "metadata": {},
   "outputs": [],
   "source": [
    "# number of parameters\n",
    "print(f\"LM variant of SimpleRNN has: {num_learnable_params(model):,} parameters\")\n"
   ]
  },
  {
   "cell_type": "code",
   "execution_count": null,
   "metadata": {},
   "outputs": [],
   "source": [
    "optimizer = torch.optim.Adam(model.parameters(), lr=1e-1)\n",
    "loss = torch.nn.CrossEntropyLoss()\n",
    "for epoch in range(NUM_EPOCHS):\n",
    "    progress = tqdm(train_dataloader)\n",
    "    for idx, batch in enumerate(progress):\n",
    "        data, labels = batch\n",
    "        contexts, embedded_labels = expand_sequence_for_rnn_training(data, labels, vocab_size, SEQ_LEN)\n",
    "        avg_loss = 0\n",
    "        optimizer.zero_grad()\n",
    "        for i in range(SEQ_LEN):\n",
    "            context = contexts[i]\n",
    "            label = embedded_labels[:, i]\n",
    "            pred = model(context)[:,-1,:].squeeze(1)\n",
    "            loss_val = loss(pred, label)\n",
    "            avg_loss += loss_val.item()\n",
    "            loss_val.backward()\n",
    "            torch.nn.utils.clip_grad_norm_(model.parameters(), max_norm=1)\n",
    "            optimizer.step()\n",
    "\n",
    "            \n",
    "        avg_loss /= SEQ_LEN\n",
    "        progress.set_postfix(loss=avg_loss)  \n",
    "    "
   ]
  },
  {
   "cell_type": "code",
   "execution_count": null,
   "metadata": {},
   "outputs": [],
   "source": [
    "gen_seq = model.generate(torch.tensor([dataset.vocab['\\n']]), SEQ_LEN, 20)"
   ]
  },
  {
   "cell_type": "code",
   "execution_count": null,
   "metadata": {},
   "outputs": [],
   "source": [
    "\"\".join([list(dataset.vocab.keys())[i - 1] for i in gen_seq])"
   ]
  }
 ],
 "metadata": {
  "kernelspec": {
   "display_name": "ml_mono",
   "language": "python",
   "name": "python3"
  },
  "language_info": {
   "codemirror_mode": {
    "name": "ipython",
    "version": 3
   },
   "file_extension": ".py",
   "mimetype": "text/x-python",
   "name": "python",
   "nbconvert_exporter": "python",
   "pygments_lexer": "ipython3",
   "version": "3.11.7"
  }
 },
 "nbformat": 4,
 "nbformat_minor": 2
}
