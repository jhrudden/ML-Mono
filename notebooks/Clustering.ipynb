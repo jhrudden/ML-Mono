{
 "cells": [
  {
   "cell_type": "code",
   "execution_count": null,
   "metadata": {},
   "outputs": [],
   "source": [
    "import matplotlib.pyplot as plt\n",
    "from matplotlib.colors import ListedColormap\n",
    "import sys\n",
    "import numpy as np\n",
    "from collections import Counter\n",
    "\n",
    "sys.path.append('../')\n",
    "\n",
    "import utils as ut\n",
    "from unsupervised.clustering import Hierarchical\n",
    "\n",
    "plt.style.use('seaborn-v0_8-pastel')"
   ]
  },
  {
   "cell_type": "markdown",
   "metadata": {},
   "source": [
    "### Goal replicate similar visualizations for each clustering algorithm as is present on [SKLearn's Clustering page](https://scikit-learn.org/stable/modules/clustering.html)"
   ]
  },
  {
   "cell_type": "code",
   "execution_count": null,
   "metadata": {},
   "outputs": [],
   "source": [
    "n_samples = 1_000\n",
    "n_features = 2\n",
    "random_state = 42\n",
    "\n",
    "uniform = ut.generate_uniform_noise(n_samples=n_samples, n_features=n_features, random_state=random_state)\n",
    "circles = ut.make_circles_2d(n_samples, noise=0.07, factor=0.6, random_state=0)\n",
    "moons = ut.make_moons_2d(n_samples, noise=0.07, random_state=0)\n",
    "\n",
    "datasets = {\n",
    "    'uniform': {\n",
    "        'data': uniform,\n",
    "        'labels': None\n",
    "    },\n",
    "    'circles': {\n",
    "        'data': circles[0],\n",
    "        'labels': circles[1]\n",
    "    },\n",
    "    'moons': {\n",
    "        'data': moons[0],\n",
    "        'labels': moons[1]\n",
    "    }\n",
    "}\n",
    "\n",
    "fig, axes = plt.subplots(1, 3, figsize=(15, 5))\n",
    "for ax, (name, dataset) in zip(axes, datasets.items()):\n",
    "    data = dataset['data']\n",
    "    labels = dataset['labels']\n",
    "    if labels is None:\n",
    "        labels = np.zeros(n_samples)\n",
    "    ax.scatter(data[:, 0], data[:, 1], c=labels, s=10)\n",
    "    ax.set_title(name)\n",
    "plt.show()"
   ]
  },
  {
   "cell_type": "markdown",
   "metadata": {},
   "source": [
    "#### Hierarchical Clustering"
   ]
  },
  {
   "cell_type": "code",
   "execution_count": null,
   "metadata": {},
   "outputs": [],
   "source": [
    "K = 3\n",
    "assert K <= 10, \"K must be less than 10\"\n",
    "# hierarchical = Hierarchical(linkage='ward')\n",
    "# y_pred = hierarchical.fit_predict(X, K)"
   ]
  },
  {
   "cell_type": "code",
   "execution_count": null,
   "metadata": {},
   "outputs": [],
   "source": [
    "# pass\n",
    "# clusters = hierarchical.clusters\n",
    "# cmap = ListedColormap(plt.cm.viridis(np.linspace(0, 1, K)))\n",
    "# for i, cluster in enumerate(clusters):\n",
    "#     dp = hierarchical.X[clusters[cluster]]\n",
    "#     color = np.ones((dp.shape[0], 1)) * i\n",
    "#     plt.scatter(dp[:,0], dp[:,1] , label=\"Cluster {}\".format(cluster), color=cmap(i), alpha=0.65, s=20)\n",
    "# plt.legend()\n",
    "# plt.title(f\"Hierarchical Clustering with {K} clusters\")\n",
    "# plt.show()"
   ]
  },
  {
   "cell_type": "code",
   "execution_count": null,
   "metadata": {},
   "outputs": [],
   "source": []
  },
  {
   "cell_type": "code",
   "execution_count": null,
   "metadata": {},
   "outputs": [],
   "source": [
    "X, y = make_circles_2d(1000, noise=0.07, factor=0.6, random_state=0)\n",
    "plt.title(f\"Dataset with 2 cluster (uses KMeans)\")\n",
    "plt.scatter(X[:,0], X[:,1], c=y, cmap='viridis', alpha=0.65, s=20)\n",
    "plt.show()"
   ]
  },
  {
   "cell_type": "code",
   "execution_count": null,
   "metadata": {},
   "outputs": [],
   "source": [
    "X, y = make_moons_2d(1000, noise=0.07, random_state=0)\n",
    "plt.title(f\"Moons\")\n",
    "plt.scatter(X[:,0], X[:,1], c=y, cmap='viridis', alpha=0.65, s=20)"
   ]
  },
  {
   "cell_type": "code",
   "execution_count": null,
   "metadata": {},
   "outputs": [],
   "source": [
    "from sklearn.datasets import make_blobs"
   ]
  },
  {
   "cell_type": "code",
   "execution_count": null,
   "metadata": {},
   "outputs": [],
   "source": [
    "rng = np.random.RandomState(42)\n",
    "no_structure, y = rng.rand(10_000, 2), None\n",
    "no_structure"
   ]
  },
  {
   "cell_type": "code",
   "execution_count": null,
   "metadata": {},
   "outputs": [],
   "source": []
  }
 ],
 "metadata": {
  "kernelspec": {
   "display_name": "ml_mono",
   "language": "python",
   "name": "python3"
  },
  "language_info": {
   "codemirror_mode": {
    "name": "ipython",
    "version": 3
   },
   "file_extension": ".py",
   "mimetype": "text/x-python",
   "name": "python",
   "nbconvert_exporter": "python",
   "pygments_lexer": "ipython3",
   "version": "3.11.7"
  }
 },
 "nbformat": 4,
 "nbformat_minor": 2
}
